{
 "cells": [
  {
   "cell_type": "markdown",
   "metadata": {},
   "source": [
    "# HDS5210-2022 Fall Midterm\n",
    "\n",
    "In the midterm exercise, you're going to use all the programming and data management skills you've developed so far to build a pricing calculator that will calculate how much money should be reimbursed for the visits in a CSV file. To do this, you will need to get allowed amounts (aka rates) from a JSON file, apply some special rules, and then calculate various totals by hospital or by month.\n",
    "\n",
    "Each step of the midterm will build up to form your final solution. Along the way, I've provided plenty of test cases to make sure you're getting each step correct.\n",
    "\n",
    "All functions require docstrings with a description and at least one test case.\n",
    "\n",
    "The midterm is due Monday, October 24th at 11:59 PM CST.\n",
    "\n",
    "---"
   ]
  },
  {
   "cell_type": "markdown",
   "metadata": {},
   "source": [
    "## Step 1: Average Rate\n",
    "\n",
    "With the `/data/negotiated_rates.json` file as input for your first function, read all the `allowed_amount` attributes and calculate an average allowed amount over all rates in the file.\n",
    "\n",
    "Your function should be named **average_rate()**, take the file's name as it's input parameter, and return a float as the result.\n",
    "\n",
    "**ROUND YOUR ANSWER TO 2 DECIMAL PLACES**"
   ]
  },
  {
   "cell_type": "code",
   "execution_count": 1,
   "metadata": {},
   "outputs": [],
   "source": [
    "import json\n",
    "from pathlib import Path\n",
    "file='/data/negotiated_rates.json'\n",
    "def average_rate(file):\n",
    "    \"\"\"(str) -> float\n",
    "    This function iterates the allowed amounts from the negotiated rates json file\n",
    "    and adds them up to a total to calcuate the average allowed amount in the file.\n",
    "    \n",
    "    This function will expect the allowed amounts to be float values. The average is\n",
    "    calculated by dividing the total allowed amounts over the count of allowed amounts.\n",
    "    The final result of the calculation will be rounded to two decimal places.\n",
    "    \n",
    "    >>> average_rate(file)\n",
    "    38.67\n",
    "    \"\"\"\n",
    "    negotiated_rates = json.load(open(file))\n",
    "    \n",
    "    amounts_total = 0\n",
    "    amounts_count = 0\n",
    "\n",
    "    for outta_network in negotiated_rates['out_of_network']:\n",
    "        for allowed_amounts in outta_network['allowed_amounts']:\n",
    "            for amts in allowed_amounts['payments']:\n",
    "                values = allowed_amounts['payments']['allowed_amount']\n",
    "            amounts_total += values\n",
    "            amounts_count += 1\n",
    "\n",
    "    average = round((amounts_total / amounts_count),2)\n",
    "    return(average)  "
   ]
  },
  {
   "cell_type": "code",
   "execution_count": 2,
   "metadata": {},
   "outputs": [],
   "source": [
    "assert(average_rate('/data/negotiated_rates.json') == 38.67)"
   ]
  },
  {
   "cell_type": "code",
   "execution_count": 3,
   "metadata": {},
   "outputs": [
    {
     "data": {
      "text/plain": [
       "38.67"
      ]
     },
     "execution_count": 3,
     "metadata": {},
     "output_type": "execute_result"
    }
   ],
   "source": [
    "average_rate('/data/negotiated_rates.json')"
   ]
  },
  {
   "cell_type": "markdown",
   "metadata": {},
   "source": [
    "---\n",
    "\n",
    "## Step 2: Rate for a Billing Code / Service Code Combination\n",
    "\n",
    "For the next step, we need to be able to look up the allowed amount for any given billing code / service code combination.\n",
    "\n",
    "In this data, the billing code represents the service or procedure that was provided. The service code represents the type of site where the service was provided.\n",
    "\n",
    "Your function should be named **get_rate()** and take three parameters: the JSON file name, the billing code, and the service code. If your code can't find that combination in the file, it should return None."
   ]
  },
  {
   "cell_type": "code",
   "execution_count": 4,
   "metadata": {},
   "outputs": [],
   "source": [
    "import json\n",
    "\n",
    "from pathlib import Path\n",
    "file='/data/negotiated_rates.json'\n",
    "def get_rate(file, billing_code, service_code):\n",
    "    \"\"\"(str, str, str) -> float\n",
    "    This function will take three string parameters as a combination and will output\n",
    "    them as a float value which will be the allowed amount.\n",
    "\n",
    "    The billing code represents the service/procedure and the service code represents\n",
    "    the site of where the service/procedure was provided.\n",
    "\n",
    "    If the combination of billing codes and service codes do not match, the code will\n",
    "    return None.\n",
    "\n",
    "    >>> get_rate('/data/negotiated_rates.json','G0283','11')\n",
    "    8.78\n",
    "\n",
    "    >>> get_rate('/data/negotiated_rates.json','97140','11')\n",
    "    20.03\n",
    "\n",
    "    >>> get_rate('/data/negotiated_rates.json','97110','12')\n",
    "    26.62\n",
    "   \"\"\"\n",
    "    negotiated_rates = json.load(open(file))\n",
    "    output = None\n",
    "\n",
    "    for outta_network in negotiated_rates['out_of_network']:\n",
    "        b_code = outta_network['billing_code']\n",
    "        for service in outta_network['allowed_amounts']:\n",
    "            s_code = service['service_code']\n",
    "            if billing_code == b_code and service_code == s_code:\n",
    "                for allowed_amounts in outta_network['allowed_amounts']:\n",
    "                    if allowed_amounts[\"service_code\"] == service_code:\n",
    "                        payments = allowed_amounts['payments']\n",
    "                        values = payments['allowed_amount']\n",
    "                    \n",
    "            output = values                 \n",
    "                \n",
    "    return(float(output))"
   ]
  },
  {
   "cell_type": "code",
   "execution_count": 5,
   "metadata": {},
   "outputs": [],
   "source": [
    "assert (get_rate('/data/negotiated_rates.json','G0283','11') == 8.78)\n",
    "assert (get_rate('/data/negotiated_rates.json','97140','11') == 20.03)\n",
    "assert (get_rate('/data/negotiated_rates.json','97110','12') == 26.62)"
   ]
  },
  {
   "cell_type": "code",
   "execution_count": 6,
   "metadata": {},
   "outputs": [
    {
     "data": {
      "text/plain": [
       "24.64"
      ]
     },
     "execution_count": 6,
     "metadata": {},
     "output_type": "execute_result"
    }
   ],
   "source": [
    "get_rate('/data/negotiated_rates.json','97140','12')"
   ]
  },
  {
   "cell_type": "markdown",
   "metadata": {},
   "source": [
    "---\n",
    "\n",
    "## Part 3: Special Rules for Rates\n",
    "\n",
    "There are some special rules for adjusting rates depending on a patient's age and the day of week.  (These are made up. Not from the real world.) In the next part of the midterm, you'll need to create a function that applies these extra rules to a rate and return the adjusted value.\n",
    "\n",
    "1. If the day of week is Monday, charge only 75% of the allowed amount.\n",
    "2. If the patient's age is 65 or higher, charge only 50% of the allowed amount.\n",
    "3. If's both Monday and the patient's age is 65 or higher, charge only 50% of the allowed amount.\n",
    "4. If neither of these conditions are true, charge the whole amount.\n",
    "\n",
    "Your function should be named **get_adjusted_rate()** and take five parameters: file name, billing code, service code, patient age, and visit date.  Your function should return the adjusted rate (based on the rules above) or None if the rate couldn't be found in the file.\n",
    "\n",
    "Note that your function will take a date in the form `%Y-%m-%d` ([see datetime.strptime()](https://docs.python.org/3/library/datetime.html#datetime.datetime.strptime)) and will need to calculate the [day of week](https://docs.python.org/3/library/datetime.html#datetime.date.weekday).\n",
    "\n",
    "**ROUND YOUR ANSWER TO 2 DECIMAL PLACES**"
   ]
  },
  {
   "cell_type": "code",
   "execution_count": 7,
   "metadata": {},
   "outputs": [],
   "source": [
    "from datetime import datetime\n",
    "from pathlib import Path\n",
    "file='/data/negotiated_rates.json'\n",
    "def get_adjusted_rate(file, billing_code, service_code, pat_age, visit_date):\n",
    "    \"\"\"(str, str, str, int, date) -> float\n",
    "    This function will take the previous three parameters as well as an additional\n",
    "    two (an integer and date) and use them to calculate the adjusted rate for the\n",
    "    patient. \n",
    "    \n",
    "    The adjusted rate is based on a set of rules that will input the patient's\n",
    "    age and the date they were in the clinic. \n",
    "    \n",
    "    If neither the patient's age or visit date are valid from the file, the code will return None.\n",
    "    \n",
    "    >>> get_adjusted_rate('/data/negotiated_rates.json','G0283','11',76,'2022-01-03')  \n",
    "    4.39\n",
    "    \n",
    "    >>> get_adjusted_rate('/data/negotiated_rates.json','G0283','11',22,'2022-01-03')\n",
    "    6.58\n",
    "    \"\"\"\n",
    "    day = visit_date\n",
    "    format_date = datetime.strptime(day, '%Y-%m-%d')\n",
    "    weekday = format_date.weekday()\n",
    "    \n",
    "    negotiated_rates = json.load(open(file))\n",
    "    output = float()\n",
    "    values = None\n",
    "    \n",
    "    for outta_network in negotiated_rates['out_of_network']:\n",
    "        b_code = outta_network['billing_code']\n",
    "        for service in outta_network['allowed_amounts']:\n",
    "            s_code = service['service_code']\n",
    "            if billing_code == b_code and service_code == s_code:\n",
    "                for allowed_amounts in outta_network['allowed_amounts']:\n",
    "                    if allowed_amounts[\"service_code\"] == service_code:\n",
    "                        payments = allowed_amounts['payments']\n",
    "                        values = payments['allowed_amount']\n",
    "    \n",
    "    if values == None:\n",
    "        return None\n",
    "    \n",
    "    if pat_age >= 65:\n",
    "        output = (values * 0.5)\n",
    "    elif weekday == 0:\n",
    "        output = (values * 0.75)\n",
    "    elif pat_age >= 65 and weekday == 0:\n",
    "        output = (values * 0.5)\n",
    "    else:\n",
    "        output = (values * 1)\n",
    "        \n",
    "    return(round(output,2))"
   ]
  },
  {
   "cell_type": "code",
   "execution_count": 8,
   "metadata": {},
   "outputs": [],
   "source": [
    "assert (get_adjusted_rate('/data/negotiated_rates.json','G0283','11',22,'2022-01-07') == 8.78)\n",
    "assert (get_adjusted_rate('/data/negotiated_rates.json','G0283','11',22,'2022-01-03') == 6.58)\n",
    "assert (get_adjusted_rate('/data/negotiated_rates.json','G0283','11',76,'2022-01-03') == 4.39)\n",
    "assert (get_adjusted_rate('/data/negotiated_rates.json','G0283','11',76,'2022-01-08') == 4.39)"
   ]
  },
  {
   "cell_type": "code",
   "execution_count": 9,
   "metadata": {},
   "outputs": [],
   "source": [
    "get_adjusted_rate('/data/negotiated_rates.json','G0283','12',65,'2021-06-15')"
   ]
  },
  {
   "cell_type": "markdown",
   "metadata": {},
   "source": [
    "---\n",
    "\n",
    "## Step 4: Calculate total payments for a list of visits\n",
    "\n",
    "Last step, we're going to put your get_adjusted_rate() function to work on a list of visits from a few hospitals in the St. Louis region.\n",
    "\n",
    "Your last function, **summarize_reimbursement()** needs to read an encounter file and the negotiated rates file, compute an adjusted rate for each encounter (row) in the input file, and return two dictionaries of information:\n",
    "1. Total expected reimbursement by month\n",
    "2. Total expected reimbursement by hospital\n",
    "\n",
    "Your should be able to run your function as `by_month, by_hospital = summarize_reimbursement(visits, negotiated_rates)` and have the two answers below:\n",
    "\n",
    "**by_month**\n",
    "```json\n",
    "{\n",
    "    '2021-05': 192.38,\n",
    "    '2021-03': 378.72,\n",
    "    '2021-07': 277.67,\n",
    "    '2021-06': 236.53,\n",
    "    '2021-11': 229.7,\n",
    "    '2021-10': 234.52,\n",
    "    '2021-12': 297.87,\n",
    "    '2021-04': 337.7,\n",
    "    '2021-09': 160.4,\n",
    "    '2021-01': 111.91,\n",
    "    '2021-02': 158.55,\n",
    "    '2021-08': 152.28\n",
    "}\n",
    "```\n",
    "\n",
    "**by_hospital**\n",
    "```json\n",
    "{\n",
    "    'Missouri Baptist': 514.18,\n",
    "    'SSM DePaul': 460.02,\n",
    "    'SLU Hospital': 409.67,\n",
    "    'Barnes Jewish': 485.7,\n",
    "    'Mercy Springfield': 518.59,\n",
    "    'Mercy St. Louis': 380.07\n",
    "}\n",
    "```\n",
    "\n",
    "**Round your totals to 2 decimal places**\n",
    "\n",
    "**If rates are not found, just ignore them**"
   ]
  },
  {
   "cell_type": "code",
   "execution_count": 10,
   "metadata": {},
   "outputs": [],
   "source": [
    "import json\n",
    "import csv\n",
    "from pathlib import Path\n",
    "file='/data/negotiated_rates.json'\n",
    "def summarize_reimbursement(visits, negotiated_rates):\n",
    "    \"\"\"(str, str) -> float\n",
    "    This function outputs two dictionaries with computations from each row in the input files\n",
    "    which act as the function's parameters. The calculated adjusted rates are summarized by\n",
    "    month and by hospital and are created as the two dictionaries.\n",
    "    \n",
    "    This function takes the calculations from the previous adjusted rate function and creates\n",
    "    a sum as the output by each month in the calendar year and by each hospital in the region.\n",
    "    \n",
    "    The function uses prevoius logic based on the calculation and combination of service code\n",
    "    and billing code, so if they do not match within each parameter, they will not be added to\n",
    "    the sum.\n",
    "    \n",
    "    >>> summarize_reimbursement('/data/visits.csv','/data/negotiated_rates.json')[0]['2021-07']\n",
    "    277.67\n",
    "    \n",
    "    >>> summarize_reimbursement('/data/visits.csv','/data/negotiated_rates.json')[1]['Mercy Springfield']\n",
    "    518.59\n",
    "    \"\"\"\n",
    "    \n",
    "    with open('visits.csv', 'r') as visits:\n",
    "        csv_reader = csv.reader(visits)\n",
    "\n",
    "        by_month = {}\n",
    "        by_hospital = {}\n",
    "\n",
    "        for i, visit in enumerate(visits):\n",
    "            if i == 0:\n",
    "                continue\n",
    "\n",
    "            parsed_visit = visit.strip().split(\",\")\n",
    "            visit_date = parsed_visit[6]\n",
    "            year_month = visit_date[0:7]\n",
    "            hospital = parsed_visit[1]      \n",
    "            service_code = parsed_visit[5]\n",
    "            billing_code = parsed_visit[4]\n",
    "            pat_age = int(parsed_visit[3])\n",
    "\n",
    "\n",
    "            adjusted_rate = get_adjusted_rate(file, billing_code, service_code, pat_age, visit_date)\n",
    "            \n",
    "            if by_month.get(year_month) == None and adjusted_rate != None:\n",
    "                by_month[year_month] = round(adjusted_rate, 2) \n",
    "            elif adjusted_rate != None:\n",
    "                by_month[year_month] = round((by_month[year_month] + adjusted_rate), 2)\n",
    "\n",
    "            if by_hospital.get(hospital) == None and adjusted_rate != None:\n",
    "                by_hospital[hospital] = round(adjusted_rate, 2)\n",
    "            elif adjusted_rate != None:\n",
    "                by_hospital[hospital] = round((by_hospital[hospital] + adjusted_rate), 2)\n",
    "\n",
    "    return (by_month, by_hospital)"
   ]
  },
  {
   "cell_type": "code",
   "execution_count": 11,
   "metadata": {},
   "outputs": [
    {
     "data": {
      "text/plain": [
       "({'2021-05': 192.38,\n",
       "  '2021-03': 378.72,\n",
       "  '2021-07': 277.67,\n",
       "  '2021-06': 236.53,\n",
       "  '2021-11': 229.7,\n",
       "  '2021-10': 234.52,\n",
       "  '2021-12': 297.87,\n",
       "  '2021-04': 337.7,\n",
       "  '2021-09': 160.4,\n",
       "  '2021-01': 111.91,\n",
       "  '2021-02': 158.55,\n",
       "  '2021-08': 152.28},\n",
       " {'Missouri Baptist': 514.18,\n",
       "  'SSM DePaul': 460.02,\n",
       "  'SLU Hospital': 409.67,\n",
       "  'Barnes Jewish': 485.7,\n",
       "  'Mercy Springfield': 518.59,\n",
       "  'Mercy St. Louis': 380.07})"
      ]
     },
     "execution_count": 11,
     "metadata": {},
     "output_type": "execute_result"
    }
   ],
   "source": [
    "summarize_reimbursement('/data/visits.csv','/data/negotiated_rates.json')"
   ]
  },
  {
   "cell_type": "code",
   "execution_count": 13,
   "metadata": {},
   "outputs": [],
   "source": [
    "assert (summarize_reimbursement('/data/visits.csv','/data/negotiated_rates.json')[0]['2021-07'] == 277.67)\n",
    "assert (summarize_reimbursement('/data/visits.csv','/data/negotiated_rates.json')[0]['2021-03'] == 378.72)\n",
    "assert (summarize_reimbursement('/data/visits.csv','/data/negotiated_rates.json')[1]['Mercy St. Louis'] == 380.07)\n",
    "assert (summarize_reimbursement('/data/visits.csv','/data/negotiated_rates.json')[1]['Mercy Springfield'] == 518.59)"
   ]
  },
  {
   "cell_type": "code",
   "execution_count": null,
   "metadata": {},
   "outputs": [],
   "source": []
  }
 ],
 "metadata": {
  "kernelspec": {
   "display_name": "Python 3",
   "language": "python",
   "name": "python3"
  },
  "language_info": {
   "codemirror_mode": {
    "name": "ipython",
    "version": 3
   },
   "file_extension": ".py",
   "mimetype": "text/x-python",
   "name": "python",
   "nbconvert_exporter": "python",
   "pygments_lexer": "ipython3",
   "version": "3.6.7"
  }
 },
 "nbformat": 4,
 "nbformat_minor": 4
}
